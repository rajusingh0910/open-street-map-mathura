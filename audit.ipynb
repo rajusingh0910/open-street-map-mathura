{
 "cells": [
  {
   "cell_type": "code",
   "execution_count": 13,
   "metadata": {},
   "outputs": [],
   "source": [
    "import xml.etree.cElementTree as ET\n",
    "from collections import defaultdict\n",
    "import re\n",
    "import pprint\n",
    "\n",
    "OSMFILE_sample = \"mathura.osm\"\n",
    "regex = re.compile(r'\\b\\S+\\.?', re.IGNORECASE)\n",
    "\n",
    "expected = [\"Mathura\", \"Road\", \"NR\", \"Avenue\", \"SBK\", \"Gandhi\", \"Bridge\", \"Society\"] #expected names in the dataset\n",
    "\n",
    "mapping = {\"mathura\": \"Mathura\",\n",
    "           \"Nr.\": \"NR\",\n",
    "           \"Ave.\": \"Avenue\",\n",
    "           \"sbk\": \"SBK\",\n",
    "           \"gandhi\": \"Gandhi\",\n",
    "           \"bridge\": \"Bridge\",\n",
    "           \"road\": \"Road\",\n",
    "           \"Ft.\": \"Feet\",\n",
    "           \"ft\": \"Feet\",\n",
    "           \"Rd\": \"Road\",\n",
    "           \"Rd.\": \"Road\",\n",
    "           \"rasta\": \"Road\",\n",
    "           \"Roads\": \"Road\",\n",
    "           \"society\": \"Society\",\n",
    "           \"soc.\": \"Society\",\n",
    "           \"Socity\": \"Society\",\n",
    "           \"UP\": \"Uttar-Pradesh\",\n",
    "           \"U.P\": \"Uttar-Pradesh\",\n",
    "           \"U.P.\": \"Uttar-Pradesh\",\n",
    "           \"Uttar Pradesh\": \"Uttar-Pradesh\",\n",
    "           \"Uttar_Pradesh\": \"Uttar-Pradesh\",\n",
    "            }\n"
   ]
  },
  {
   "cell_type": "code",
   "execution_count": 14,
   "metadata": {},
   "outputs": [
    {
     "name": "stdout",
     "output_type": "stream",
     "text": [
      "{'Banki': set(['Banki Bihari Bazar']),\n",
      " 'Bharatpur': set(['Bharatpur - Mathura Rd, Mayur Vihar, Mathura, Uttar Pradesh 281001, India']),\n",
      " 'Gurukul': set(['Gurukul Road,\\nVrindavan (U.P.) INDIA']),\n",
      " 'Naya': set(['Naya Bazaar']),\n",
      " 'priti': set(['priti vihar colony'])}\n"
     ]
    }
   ],
   "source": [
    "# Search string for the regex. If it is matched and not in the expected list then add this as a key to the set.\n",
    "def audit_street(street_types, street_name): \n",
    "    m = regex.search(street_name)\n",
    "    if m:\n",
    "        street_type = m.group()\n",
    "        if street_type not in expected:\n",
    "            street_types[street_type].add(street_name)\n",
    "\n",
    "def is_street_name(elem): # Check if it is a street name\n",
    "    return (elem.attrib['k'] == \"addr:street\")\n",
    "\n",
    "def audit(osmfile): # return the list that satify the above two functions\n",
    "    osm_file = open(osmfile, \"r\")\n",
    "    street_types = defaultdict(set)\n",
    "    for event, elem in ET.iterparse(osm_file, events=(\"start\",)):\n",
    "\n",
    "        if elem.tag == \"node\" or elem.tag == \"way\":\n",
    "            for tag in elem.iter(\"tag\"):\n",
    "                if is_street_name(tag):\n",
    "                    audit_street(street_types, tag.attrib['v'])\n",
    "\n",
    "    return street_types\n",
    "\n",
    "pprint.pprint(dict(audit(OSMFILE_sample))) # print the existing names"
   ]
  },
  {
   "cell_type": "code",
   "execution_count": 15,
   "metadata": {
    "collapsed": true
   },
   "outputs": [],
   "source": [
    "def string_case(s): # change string into titleCase except for UpperCase\n",
    "    if s.isupper():\n",
    "        return s\n",
    "    else:\n",
    "        return s.title()"
   ]
  },
  {
   "cell_type": "code",
   "execution_count": 16,
   "metadata": {},
   "outputs": [],
   "source": [
    "# return the updated names\n",
    "def update_name(name, mapping):\n",
    "    name = name.split(' ')\n",
    "    for i in range(len(name)):\n",
    "        if name[i] in mapping:\n",
    "            name[i] = mapping[name[i]]\n",
    "            name[i] = string_case(name[i])\n",
    "        else:\n",
    "            name[i] = string_case(name[i])\n",
    "    \n",
    "    name = ' '.join(name)\n",
    "   \n",
    "\n",
    "    return name\n",
    "\n",
    "update_street = audit(OSMFILE_sample) "
   ]
  },
  {
   "cell_type": "code",
   "execution_count": 17,
   "metadata": {},
   "outputs": [
    {
     "name": "stdout",
     "output_type": "stream",
     "text": [
      "Bharatpur - Mathura Rd, Mayur Vihar, Mathura, Uttar Pradesh 281001, India => Bharatpur - Mathura Rd, Mayur Vihar, Mathura, Uttar Pradesh 281001, India\n",
      "Naya Bazaar => Naya Bazaar\n",
      "Gurukul Road,\n",
      "Vrindavan (U.P.) INDIA => Gurukul Road,\n",
      "Vrindavan (U.P.) INDIA\n",
      "Banki Bihari Bazar => Banki Bihari Bazar\n",
      "priti vihar colony => Priti Vihar Colony\n"
     ]
    }
   ],
   "source": [
    "# print the updated names\n",
    "for street_type, ways in update_street.iteritems():\n",
    "    for name in ways:\n",
    "        better_name = update_name(name, mapping)\n",
    "        print name, \"=>\", better_name  "
   ]
  }
 ],
 "metadata": {
  "kernelspec": {
   "display_name": "Python 2",
   "language": "python",
   "name": "python2"
  },
  "language_info": {
   "codemirror_mode": {
    "name": "ipython",
    "version": 2
   },
   "file_extension": ".py",
   "mimetype": "text/x-python",
   "name": "python",
   "nbconvert_exporter": "python",
   "pygments_lexer": "ipython2",
   "version": "2.7.13"
  }
 },
 "nbformat": 4,
 "nbformat_minor": 2
}
